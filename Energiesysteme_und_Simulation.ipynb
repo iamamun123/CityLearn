{
  "cells": [
    {
      "cell_type": "markdown",
      "metadata": {
        "id": "skXOO6RZsKkS"
      },
      "source": [
        "# Beispiel 1 für die Energiesystemmodellierung eines kleinen Energiesystems"
      ]
    },
    {
      "cell_type": "markdown",
      "metadata": {
        "id": "1KE-TTYMsKkV"
      },
      "source": [
        "Dieses Jupyter Notebook führt durch ein Beispiel der Energiesystemmodellierung. Dabei werden die folgenden Schritte durchgeführt:\n",
        "* [Import](#chapter1)\n",
        "    * [Import der benötigten Python Module](#section_1_1)\n",
        "    * [Import der Daten](#section_1_2)\n",
        "* [Definition der Variablen und Objekte](#chapter2)\n",
        "    * [Definition von Anlagenparametern](#section_2_1)\n",
        "        * [Komponenten des Haushalts](#section_2_1_1)\n",
        "        * [Netzanschluss](#section_2_1_2)\n",
        "    * [Verwendung von PyPSA um das Energiemodell aufzubauen](#section_2_2)\n",
        "        * [Definition des Netzwerks](#section_2_2_1)\n",
        "        * [Knoten definieren](#section_2_2_2)\n",
        "        * [Lasten definieren](#section_2_2_3)\n",
        "        * [Erzeugungseinheiten definieren](#section_2_2_4)\n",
        "        * [Speicher definieren](#section_2_2_5)\n",
        "        * [Netzanschluss definieren](#section_2_2_6)\n",
        "* [Simulation](#chapter3)\n",
        "    * [Simulation der Basiskonfiguration](#section_3_1)\n",
        "    * [Auswertungsfunktion](#section_3_2)\n",
        "    * [Visualisierung der Ergebnisse](#section_3_3)\n",
        "    * [Erweiterterung der Konfiguration](#section_3_4)\n",
        "    * [Simulation der erweiterten Konfiguration](#section_3_5)\n",
        "* [Visualisierung des Vergleichs](#chapter4)\n",
        "\n"
      ]
    },
    {
      "cell_type": "markdown",
      "metadata": {
        "id": "GfUQsbNasKkV"
      },
      "source": [
        "# Import <a class=\"anchor\" id=\"chapter1\"></a>"
      ]
    },
    {
      "cell_type": "markdown",
      "metadata": {
        "id": "vrdfM1_8sKkV"
      },
      "source": [
        "## Import der benötigten Python Module <a class=\"anchor\" id=\"section_1_1\"></a>"
      ]
    },
    {
      "cell_type": "code",
      "source": [
        "pip install pypsa"
      ],
      "metadata": {
        "id": "SOHeTH7gsPnn",
        "outputId": "6f3403cc-eebd-4aad-b5c5-c81c95360974",
        "colab": {
          "base_uri": "https://localhost:8080/"
        }
      },
      "execution_count": 2,
      "outputs": [
        {
          "output_type": "stream",
          "name": "stdout",
          "text": [
            "Collecting pypsa\n",
            "  Downloading pypsa-0.34.0-py3-none-any.whl.metadata (13 kB)\n",
            "Requirement already satisfied: numpy in /usr/local/lib/python3.11/dist-packages (from pypsa) (2.0.2)\n",
            "Requirement already satisfied: scipy in /usr/local/lib/python3.11/dist-packages (from pypsa) (1.14.1)\n",
            "Requirement already satisfied: pandas>=0.24 in /usr/local/lib/python3.11/dist-packages (from pypsa) (2.2.2)\n",
            "Requirement already satisfied: xarray in /usr/local/lib/python3.11/dist-packages (from pypsa) (2025.1.2)\n",
            "Collecting netcdf4 (from pypsa)\n",
            "  Downloading netCDF4-1.7.2-cp311-cp311-manylinux_2_17_x86_64.manylinux2014_x86_64.whl.metadata (1.8 kB)\n",
            "Collecting linopy>=0.4 (from pypsa)\n",
            "  Downloading linopy-0.5.2-py3-none-any.whl.metadata (8.9 kB)\n",
            "Requirement already satisfied: matplotlib in /usr/local/lib/python3.11/dist-packages (from pypsa) (3.10.0)\n",
            "Requirement already satisfied: seaborn in /usr/local/lib/python3.11/dist-packages (from pypsa) (0.13.2)\n",
            "Requirement already satisfied: geopandas>=0.9 in /usr/local/lib/python3.11/dist-packages (from pypsa) (1.0.1)\n",
            "Requirement already satisfied: networkx>=2 in /usr/local/lib/python3.11/dist-packages (from pypsa) (3.4.2)\n",
            "Collecting deprecation (from pypsa)\n",
            "  Downloading deprecation-2.1.0-py2.py3-none-any.whl.metadata (4.6 kB)\n",
            "Collecting validators (from pypsa)\n",
            "  Downloading validators-0.34.0-py3-none-any.whl.metadata (3.8 kB)\n",
            "Requirement already satisfied: highspy in /usr/local/lib/python3.11/dist-packages (from pypsa) (1.9.0)\n",
            "Requirement already satisfied: pyogrio>=0.7.2 in /usr/local/lib/python3.11/dist-packages (from geopandas>=0.9->pypsa) (0.10.0)\n",
            "Requirement already satisfied: packaging in /usr/local/lib/python3.11/dist-packages (from geopandas>=0.9->pypsa) (24.2)\n",
            "Requirement already satisfied: pyproj>=3.3.0 in /usr/local/lib/python3.11/dist-packages (from geopandas>=0.9->pypsa) (3.7.1)\n",
            "Requirement already satisfied: shapely>=2.0.0 in /usr/local/lib/python3.11/dist-packages (from geopandas>=0.9->pypsa) (2.0.7)\n",
            "Requirement already satisfied: bottleneck in /usr/local/lib/python3.11/dist-packages (from linopy>=0.4->pypsa) (1.4.2)\n",
            "Requirement already satisfied: toolz in /usr/local/lib/python3.11/dist-packages (from linopy>=0.4->pypsa) (0.12.1)\n",
            "Requirement already satisfied: numexpr in /usr/local/lib/python3.11/dist-packages (from linopy>=0.4->pypsa) (2.10.2)\n",
            "Requirement already satisfied: dask>=0.18.0 in /usr/local/lib/python3.11/dist-packages (from linopy>=0.4->pypsa) (2024.12.1)\n",
            "Requirement already satisfied: polars in /usr/local/lib/python3.11/dist-packages (from linopy>=0.4->pypsa) (1.21.0)\n",
            "Requirement already satisfied: tqdm in /usr/local/lib/python3.11/dist-packages (from linopy>=0.4->pypsa) (4.67.1)\n",
            "Requirement already satisfied: python-dateutil>=2.8.2 in /usr/local/lib/python3.11/dist-packages (from pandas>=0.24->pypsa) (2.8.2)\n",
            "Requirement already satisfied: pytz>=2020.1 in /usr/local/lib/python3.11/dist-packages (from pandas>=0.24->pypsa) (2025.2)\n",
            "Requirement already satisfied: tzdata>=2022.7 in /usr/local/lib/python3.11/dist-packages (from pandas>=0.24->pypsa) (2025.2)\n",
            "Requirement already satisfied: contourpy>=1.0.1 in /usr/local/lib/python3.11/dist-packages (from matplotlib->pypsa) (1.3.1)\n",
            "Requirement already satisfied: cycler>=0.10 in /usr/local/lib/python3.11/dist-packages (from matplotlib->pypsa) (0.12.1)\n",
            "Requirement already satisfied: fonttools>=4.22.0 in /usr/local/lib/python3.11/dist-packages (from matplotlib->pypsa) (4.56.0)\n",
            "Requirement already satisfied: kiwisolver>=1.3.1 in /usr/local/lib/python3.11/dist-packages (from matplotlib->pypsa) (1.4.8)\n",
            "Requirement already satisfied: pillow>=8 in /usr/local/lib/python3.11/dist-packages (from matplotlib->pypsa) (11.1.0)\n",
            "Requirement already satisfied: pyparsing>=2.3.1 in /usr/local/lib/python3.11/dist-packages (from matplotlib->pypsa) (3.2.3)\n",
            "Collecting cftime (from netcdf4->pypsa)\n",
            "  Downloading cftime-1.6.4.post1-cp311-cp311-manylinux_2_17_x86_64.manylinux2014_x86_64.whl.metadata (8.7 kB)\n",
            "Requirement already satisfied: certifi in /usr/local/lib/python3.11/dist-packages (from netcdf4->pypsa) (2025.1.31)\n",
            "Requirement already satisfied: click>=8.1 in /usr/local/lib/python3.11/dist-packages (from dask>=0.18.0->linopy>=0.4->pypsa) (8.1.8)\n",
            "Requirement already satisfied: cloudpickle>=3.0.0 in /usr/local/lib/python3.11/dist-packages (from dask>=0.18.0->linopy>=0.4->pypsa) (3.1.1)\n",
            "Requirement already satisfied: fsspec>=2021.09.0 in /usr/local/lib/python3.11/dist-packages (from dask>=0.18.0->linopy>=0.4->pypsa) (2025.3.2)\n",
            "Requirement already satisfied: partd>=1.4.0 in /usr/local/lib/python3.11/dist-packages (from dask>=0.18.0->linopy>=0.4->pypsa) (1.4.2)\n",
            "Requirement already satisfied: pyyaml>=5.3.1 in /usr/local/lib/python3.11/dist-packages (from dask>=0.18.0->linopy>=0.4->pypsa) (6.0.2)\n",
            "Requirement already satisfied: importlib_metadata>=4.13.0 in /usr/local/lib/python3.11/dist-packages (from dask>=0.18.0->linopy>=0.4->pypsa) (8.6.1)\n",
            "Requirement already satisfied: six>=1.5 in /usr/local/lib/python3.11/dist-packages (from python-dateutil>=2.8.2->pandas>=0.24->pypsa) (1.17.0)\n",
            "Requirement already satisfied: zipp>=3.20 in /usr/local/lib/python3.11/dist-packages (from importlib_metadata>=4.13.0->dask>=0.18.0->linopy>=0.4->pypsa) (3.21.0)\n",
            "Requirement already satisfied: locket in /usr/local/lib/python3.11/dist-packages (from partd>=1.4.0->dask>=0.18.0->linopy>=0.4->pypsa) (1.0.0)\n",
            "Downloading pypsa-0.34.0-py3-none-any.whl (206 kB)\n",
            "\u001b[2K   \u001b[90m━━━━━━━━━━━━━━━━━━━━━━━━━━━━━━━━━━━━━━━━\u001b[0m \u001b[32m206.2/206.2 kB\u001b[0m \u001b[31m6.6 MB/s\u001b[0m eta \u001b[36m0:00:00\u001b[0m\n",
            "\u001b[?25hDownloading linopy-0.5.2-py3-none-any.whl (94 kB)\n",
            "\u001b[2K   \u001b[90m━━━━━━━━━━━━━━━━━━━━━━━━━━━━━━━━━━━━━━━━\u001b[0m \u001b[32m94.7/94.7 kB\u001b[0m \u001b[31m6.5 MB/s\u001b[0m eta \u001b[36m0:00:00\u001b[0m\n",
            "\u001b[?25hDownloading deprecation-2.1.0-py2.py3-none-any.whl (11 kB)\n",
            "Downloading netCDF4-1.7.2-cp311-cp311-manylinux_2_17_x86_64.manylinux2014_x86_64.whl (9.3 MB)\n",
            "\u001b[2K   \u001b[90m━━━━━━━━━━━━━━━━━━━━━━━━━━━━━━━━━━━━━━━━\u001b[0m \u001b[32m9.3/9.3 MB\u001b[0m \u001b[31m68.7 MB/s\u001b[0m eta \u001b[36m0:00:00\u001b[0m\n",
            "\u001b[?25hDownloading validators-0.34.0-py3-none-any.whl (43 kB)\n",
            "\u001b[2K   \u001b[90m━━━━━━━━━━━━━━━━━━━━━━━━━━━━━━━━━━━━━━━━\u001b[0m \u001b[32m43.5/43.5 kB\u001b[0m \u001b[31m2.8 MB/s\u001b[0m eta \u001b[36m0:00:00\u001b[0m\n",
            "\u001b[?25hDownloading cftime-1.6.4.post1-cp311-cp311-manylinux_2_17_x86_64.manylinux2014_x86_64.whl (1.4 MB)\n",
            "\u001b[2K   \u001b[90m━━━━━━━━━━━━━━━━━━━━━━━━━━━━━━━━━━━━━━━━\u001b[0m \u001b[32m1.4/1.4 MB\u001b[0m \u001b[31m53.5 MB/s\u001b[0m eta \u001b[36m0:00:00\u001b[0m\n",
            "\u001b[?25hInstalling collected packages: validators, deprecation, cftime, netcdf4, linopy, pypsa\n",
            "Successfully installed cftime-1.6.4.post1 deprecation-2.1.0 linopy-0.5.2 netcdf4-1.7.2 pypsa-0.34.0 validators-0.34.0\n"
          ]
        }
      ]
    },
    {
      "cell_type": "code",
      "execution_count": 3,
      "metadata": {
        "id": "_m00aC4usKkW"
      },
      "outputs": [],
      "source": [
        "import pypsa\n",
        "import pandas as pd\n",
        "import math"
      ]
    },
    {
      "cell_type": "markdown",
      "metadata": {
        "id": "qMu3FVlEsKkW"
      },
      "source": [
        "## Import der Daten <a class=\"anchor\" id=\"section_1_2\"></a>"
      ]
    },
    {
      "cell_type": "markdown",
      "metadata": {
        "id": "M_hi12HSsKkW"
      },
      "source": [
        "Die Werte der Zeitreihen sind in einem Unterordner \"data\" als csv-Datein abgelegt. Sie bilden den Oktober 2019 ab und werden mithilfe des Python Moduls pandas eingelesen und als Variablen angelegt. Dabei werden Parameter wie der Separator (hier \";\") und die Indexspalte sowie die Funktion, aus der Indexspalte Zeit und Datenformate auszulesen gesetzt."
      ]
    },
    {
      "cell_type": "code",
      "execution_count": 4,
      "metadata": {
        "id": "lpVYSsFssKkX",
        "outputId": "5361a1dd-b56d-4115-ff9b-2cb1bfff7e47",
        "colab": {
          "base_uri": "https://localhost:8080/",
          "height": 339
        }
      },
      "outputs": [
        {
          "output_type": "error",
          "ename": "FileNotFoundError",
          "evalue": "[Errno 2] No such file or directory: './data/SumProfiles_Electricity.csv'",
          "traceback": [
            "\u001b[0;31m---------------------------------------------------------------------------\u001b[0m",
            "\u001b[0;31mFileNotFoundError\u001b[0m                         Traceback (most recent call last)",
            "\u001b[0;32m<ipython-input-4-3eed988fb0ba>\u001b[0m in \u001b[0;36m<cell line: 0>\u001b[0;34m()\u001b[0m\n\u001b[0;32m----> 1\u001b[0;31m \u001b[0melectrical_load\u001b[0m \u001b[0;34m=\u001b[0m \u001b[0mpd\u001b[0m\u001b[0;34m.\u001b[0m\u001b[0mread_csv\u001b[0m\u001b[0;34m(\u001b[0m\u001b[0;34m'./data/SumProfiles_Electricity.csv'\u001b[0m\u001b[0;34m,\u001b[0m \u001b[0msep\u001b[0m \u001b[0;34m=\u001b[0m \u001b[0;34m';'\u001b[0m\u001b[0;34m,\u001b[0m \u001b[0mindex_col\u001b[0m\u001b[0;34m=\u001b[0m\u001b[0;34m'Time'\u001b[0m\u001b[0;34m,\u001b[0m \u001b[0mparse_dates\u001b[0m\u001b[0;34m=\u001b[0m\u001b[0;32mTrue\u001b[0m\u001b[0;34m)\u001b[0m\u001b[0;34m\u001b[0m\u001b[0;34m\u001b[0m\u001b[0m\n\u001b[0m\u001b[1;32m      2\u001b[0m \u001b[0mthermal_load\u001b[0m \u001b[0;34m=\u001b[0m \u001b[0mpd\u001b[0m\u001b[0;34m.\u001b[0m\u001b[0mread_csv\u001b[0m\u001b[0;34m(\u001b[0m\u001b[0;34m'./data/SumProfiles_Gas.csv'\u001b[0m\u001b[0;34m,\u001b[0m \u001b[0msep\u001b[0m \u001b[0;34m=\u001b[0m \u001b[0;34m';'\u001b[0m\u001b[0;34m,\u001b[0m \u001b[0mindex_col\u001b[0m\u001b[0;34m=\u001b[0m\u001b[0;34m'Time'\u001b[0m\u001b[0;34m,\u001b[0m \u001b[0mparse_dates\u001b[0m\u001b[0;34m=\u001b[0m\u001b[0;32mTrue\u001b[0m\u001b[0;34m)\u001b[0m\u001b[0;34m\u001b[0m\u001b[0;34m\u001b[0m\u001b[0m\n\u001b[1;32m      3\u001b[0m \u001b[0mpv_infeed\u001b[0m \u001b[0;34m=\u001b[0m \u001b[0mpd\u001b[0m\u001b[0;34m.\u001b[0m\u001b[0mread_csv\u001b[0m\u001b[0;34m(\u001b[0m\u001b[0;34m'./data/pv_infeed.csv'\u001b[0m\u001b[0;34m,\u001b[0m \u001b[0msep\u001b[0m \u001b[0;34m=\u001b[0m \u001b[0;34m';'\u001b[0m\u001b[0;34m,\u001b[0m \u001b[0mindex_col\u001b[0m\u001b[0;34m=\u001b[0m\u001b[0;34m'Time'\u001b[0m\u001b[0;34m,\u001b[0m \u001b[0mparse_dates\u001b[0m\u001b[0;34m=\u001b[0m\u001b[0;32mTrue\u001b[0m\u001b[0;34m)\u001b[0m\u001b[0;34m\u001b[0m\u001b[0;34m\u001b[0m\u001b[0m\n",
            "\u001b[0;32m/usr/local/lib/python3.11/dist-packages/pandas/io/parsers/readers.py\u001b[0m in \u001b[0;36mread_csv\u001b[0;34m(filepath_or_buffer, sep, delimiter, header, names, index_col, usecols, dtype, engine, converters, true_values, false_values, skipinitialspace, skiprows, skipfooter, nrows, na_values, keep_default_na, na_filter, verbose, skip_blank_lines, parse_dates, infer_datetime_format, keep_date_col, date_parser, date_format, dayfirst, cache_dates, iterator, chunksize, compression, thousands, decimal, lineterminator, quotechar, quoting, doublequote, escapechar, comment, encoding, encoding_errors, dialect, on_bad_lines, delim_whitespace, low_memory, memory_map, float_precision, storage_options, dtype_backend)\u001b[0m\n\u001b[1;32m   1024\u001b[0m     \u001b[0mkwds\u001b[0m\u001b[0;34m.\u001b[0m\u001b[0mupdate\u001b[0m\u001b[0;34m(\u001b[0m\u001b[0mkwds_defaults\u001b[0m\u001b[0;34m)\u001b[0m\u001b[0;34m\u001b[0m\u001b[0;34m\u001b[0m\u001b[0m\n\u001b[1;32m   1025\u001b[0m \u001b[0;34m\u001b[0m\u001b[0m\n\u001b[0;32m-> 1026\u001b[0;31m     \u001b[0;32mreturn\u001b[0m \u001b[0m_read\u001b[0m\u001b[0;34m(\u001b[0m\u001b[0mfilepath_or_buffer\u001b[0m\u001b[0;34m,\u001b[0m \u001b[0mkwds\u001b[0m\u001b[0;34m)\u001b[0m\u001b[0;34m\u001b[0m\u001b[0;34m\u001b[0m\u001b[0m\n\u001b[0m\u001b[1;32m   1027\u001b[0m \u001b[0;34m\u001b[0m\u001b[0m\n\u001b[1;32m   1028\u001b[0m \u001b[0;34m\u001b[0m\u001b[0m\n",
            "\u001b[0;32m/usr/local/lib/python3.11/dist-packages/pandas/io/parsers/readers.py\u001b[0m in \u001b[0;36m_read\u001b[0;34m(filepath_or_buffer, kwds)\u001b[0m\n\u001b[1;32m    618\u001b[0m \u001b[0;34m\u001b[0m\u001b[0m\n\u001b[1;32m    619\u001b[0m     \u001b[0;31m# Create the parser.\u001b[0m\u001b[0;34m\u001b[0m\u001b[0;34m\u001b[0m\u001b[0m\n\u001b[0;32m--> 620\u001b[0;31m     \u001b[0mparser\u001b[0m \u001b[0;34m=\u001b[0m \u001b[0mTextFileReader\u001b[0m\u001b[0;34m(\u001b[0m\u001b[0mfilepath_or_buffer\u001b[0m\u001b[0;34m,\u001b[0m \u001b[0;34m**\u001b[0m\u001b[0mkwds\u001b[0m\u001b[0;34m)\u001b[0m\u001b[0;34m\u001b[0m\u001b[0;34m\u001b[0m\u001b[0m\n\u001b[0m\u001b[1;32m    621\u001b[0m \u001b[0;34m\u001b[0m\u001b[0m\n\u001b[1;32m    622\u001b[0m     \u001b[0;32mif\u001b[0m \u001b[0mchunksize\u001b[0m \u001b[0;32mor\u001b[0m \u001b[0miterator\u001b[0m\u001b[0;34m:\u001b[0m\u001b[0;34m\u001b[0m\u001b[0;34m\u001b[0m\u001b[0m\n",
            "\u001b[0;32m/usr/local/lib/python3.11/dist-packages/pandas/io/parsers/readers.py\u001b[0m in \u001b[0;36m__init__\u001b[0;34m(self, f, engine, **kwds)\u001b[0m\n\u001b[1;32m   1618\u001b[0m \u001b[0;34m\u001b[0m\u001b[0m\n\u001b[1;32m   1619\u001b[0m         \u001b[0mself\u001b[0m\u001b[0;34m.\u001b[0m\u001b[0mhandles\u001b[0m\u001b[0;34m:\u001b[0m \u001b[0mIOHandles\u001b[0m \u001b[0;34m|\u001b[0m \u001b[0;32mNone\u001b[0m \u001b[0;34m=\u001b[0m \u001b[0;32mNone\u001b[0m\u001b[0;34m\u001b[0m\u001b[0;34m\u001b[0m\u001b[0m\n\u001b[0;32m-> 1620\u001b[0;31m         \u001b[0mself\u001b[0m\u001b[0;34m.\u001b[0m\u001b[0m_engine\u001b[0m \u001b[0;34m=\u001b[0m \u001b[0mself\u001b[0m\u001b[0;34m.\u001b[0m\u001b[0m_make_engine\u001b[0m\u001b[0;34m(\u001b[0m\u001b[0mf\u001b[0m\u001b[0;34m,\u001b[0m \u001b[0mself\u001b[0m\u001b[0;34m.\u001b[0m\u001b[0mengine\u001b[0m\u001b[0;34m)\u001b[0m\u001b[0;34m\u001b[0m\u001b[0;34m\u001b[0m\u001b[0m\n\u001b[0m\u001b[1;32m   1621\u001b[0m \u001b[0;34m\u001b[0m\u001b[0m\n\u001b[1;32m   1622\u001b[0m     \u001b[0;32mdef\u001b[0m \u001b[0mclose\u001b[0m\u001b[0;34m(\u001b[0m\u001b[0mself\u001b[0m\u001b[0;34m)\u001b[0m \u001b[0;34m->\u001b[0m \u001b[0;32mNone\u001b[0m\u001b[0;34m:\u001b[0m\u001b[0;34m\u001b[0m\u001b[0;34m\u001b[0m\u001b[0m\n",
            "\u001b[0;32m/usr/local/lib/python3.11/dist-packages/pandas/io/parsers/readers.py\u001b[0m in \u001b[0;36m_make_engine\u001b[0;34m(self, f, engine)\u001b[0m\n\u001b[1;32m   1878\u001b[0m                 \u001b[0;32mif\u001b[0m \u001b[0;34m\"b\"\u001b[0m \u001b[0;32mnot\u001b[0m \u001b[0;32min\u001b[0m \u001b[0mmode\u001b[0m\u001b[0;34m:\u001b[0m\u001b[0;34m\u001b[0m\u001b[0;34m\u001b[0m\u001b[0m\n\u001b[1;32m   1879\u001b[0m                     \u001b[0mmode\u001b[0m \u001b[0;34m+=\u001b[0m \u001b[0;34m\"b\"\u001b[0m\u001b[0;34m\u001b[0m\u001b[0;34m\u001b[0m\u001b[0m\n\u001b[0;32m-> 1880\u001b[0;31m             self.handles = get_handle(\n\u001b[0m\u001b[1;32m   1881\u001b[0m                 \u001b[0mf\u001b[0m\u001b[0;34m,\u001b[0m\u001b[0;34m\u001b[0m\u001b[0;34m\u001b[0m\u001b[0m\n\u001b[1;32m   1882\u001b[0m                 \u001b[0mmode\u001b[0m\u001b[0;34m,\u001b[0m\u001b[0;34m\u001b[0m\u001b[0;34m\u001b[0m\u001b[0m\n",
            "\u001b[0;32m/usr/local/lib/python3.11/dist-packages/pandas/io/common.py\u001b[0m in \u001b[0;36mget_handle\u001b[0;34m(path_or_buf, mode, encoding, compression, memory_map, is_text, errors, storage_options)\u001b[0m\n\u001b[1;32m    871\u001b[0m         \u001b[0;32mif\u001b[0m \u001b[0mioargs\u001b[0m\u001b[0;34m.\u001b[0m\u001b[0mencoding\u001b[0m \u001b[0;32mand\u001b[0m \u001b[0;34m\"b\"\u001b[0m \u001b[0;32mnot\u001b[0m \u001b[0;32min\u001b[0m \u001b[0mioargs\u001b[0m\u001b[0;34m.\u001b[0m\u001b[0mmode\u001b[0m\u001b[0;34m:\u001b[0m\u001b[0;34m\u001b[0m\u001b[0;34m\u001b[0m\u001b[0m\n\u001b[1;32m    872\u001b[0m             \u001b[0;31m# Encoding\u001b[0m\u001b[0;34m\u001b[0m\u001b[0;34m\u001b[0m\u001b[0m\n\u001b[0;32m--> 873\u001b[0;31m             handle = open(\n\u001b[0m\u001b[1;32m    874\u001b[0m                 \u001b[0mhandle\u001b[0m\u001b[0;34m,\u001b[0m\u001b[0;34m\u001b[0m\u001b[0;34m\u001b[0m\u001b[0m\n\u001b[1;32m    875\u001b[0m                 \u001b[0mioargs\u001b[0m\u001b[0;34m.\u001b[0m\u001b[0mmode\u001b[0m\u001b[0;34m,\u001b[0m\u001b[0;34m\u001b[0m\u001b[0;34m\u001b[0m\u001b[0m\n",
            "\u001b[0;31mFileNotFoundError\u001b[0m: [Errno 2] No such file or directory: './data/SumProfiles_Electricity.csv'"
          ]
        }
      ],
      "source": [
        "electrical_load = pd.read_csv('./data/SumProfiles_Electricity.csv', sep = ';', index_col='Time', parse_dates=True)\n",
        "thermal_load = pd.read_csv('./data/SumProfiles_Gas.csv', sep = ';', index_col='Time', parse_dates=True)\n",
        "pv_infeed = pd.read_csv('./data/pv_infeed.csv', sep = ';', index_col='Time', parse_dates=True)"
      ]
    },
    {
      "cell_type": "markdown",
      "metadata": {
        "id": "Q6BsCr1esKkX"
      },
      "source": [
        "Die eingelesenen Zeitreihen sind so noch nicht vollständig nutzbar. Um die Einspeisung der PV-Anlage zu normieren wird eine neue Spalte mit dem normierten Leistungsoutput sowie neue Spalten mit der Leistung der Last in den jeweiligen Variablen angelegt."
      ]
    },
    {
      "cell_type": "code",
      "execution_count": null,
      "metadata": {
        "id": "nPMd8ZMFsKkX"
      },
      "outputs": [],
      "source": [
        "#Die gemessene PV-Einspeiseganglinie ist von einer Anlage mit einer Leistung von 3,6 kWp\n",
        "pv_infeed['p_max_pu'] = pv_infeed.power_kw/3.6\n",
        "\n",
        "#Das Profil hat eine Energienachfrage in kwh pro 10 Minuten, daher die Umrechnung in Leistung\n",
        "electrical_load['power_kw'] = electrical_load.demand_kwh * (60.0/10.0)\n",
        "thermal_load['power_kw'] = thermal_load.demand_kwh * (60.0/10.0)"
      ]
    },
    {
      "cell_type": "markdown",
      "metadata": {
        "id": "TNTRHAtDsKkX"
      },
      "source": [
        "Um einen kurzen Einblick in die Daten zu erhalten, schauen wir uns nur einen Ausschnitt aller drei Tabellen an:"
      ]
    },
    {
      "cell_type": "code",
      "execution_count": null,
      "metadata": {
        "id": "Mx8wCq8ZsKkX"
      },
      "outputs": [],
      "source": [
        "df_figure = pd.concat([electrical_load.power_kw, thermal_load.power_kw, pv_infeed.power_kw], axis = 1)\n",
        "df_figure.columns = ['Elektrische Last', 'Thermische Last', 'PV Einspeisung']\n",
        "df_figure.loc['10-13-19 00:00:00':'10-14-19 23:50:00'].plot(subplots = True, figsize=(15,10), title= 'Leistung in kW')"
      ]
    },
    {
      "cell_type": "markdown",
      "metadata": {
        "id": "kKp-2AcLsKkX"
      },
      "source": [
        "# Definition der Variablen und Objekte <a class=\"anchor\" id=\"chapter2\"></a>"
      ]
    },
    {
      "cell_type": "markdown",
      "metadata": {
        "id": "loz-gESTsKkY"
      },
      "source": [
        "## Definition von Anlagenparametern <a class=\"anchor\" id=\"section_2_1\"></a>"
      ]
    },
    {
      "cell_type": "markdown",
      "metadata": {
        "id": "ZhpboM69sKkY"
      },
      "source": [
        "Die Parameter der PV-Anlage, sowie die Wärmepumpe und der Heizkessel mit thermischen Speicher werden hier definiert. Die Definition ist an reale technische Anlagen angelehnt. Um Einflüsse der verschiedenen Komponenten auf die Ergebnisse zu erfassen, können sie geändert werden."
      ]
    },
    {
      "cell_type": "markdown",
      "metadata": {
        "id": "RykV-RFYsKkY"
      },
      "source": [
        "### Komponenten des Haushalts <a class=\"anchor\" id=\"section_2_1_1\"></a>"
      ]
    },
    {
      "cell_type": "markdown",
      "metadata": {
        "id": "ZycUjQNDsKkY"
      },
      "source": [
        "Die Parameter sind in kW bzw. in cent/kWh angegeben und werden in ein python Dictionary gespeichert."
      ]
    },
    {
      "cell_type": "code",
      "execution_count": null,
      "metadata": {
        "id": "q89Qyva4sKkY"
      },
      "outputs": [],
      "source": [
        "# PV-Anlage\n",
        "pv = {\"electrical_power\": 8.0}\n",
        "\n",
        "#Heizkessel\n",
        "heating_boiler = {\"thermal_power\": 20.0,\n",
        "                   \"efficiency\":0.98,# Effizienz als normierte Kennzahl\n",
        "                   \"gas_costs\": 6.2} #Kosten in cent/kWh\n",
        "\n",
        "#Warmwasserspeicher\n",
        "hot_water_storage =  {\"thermal_power\": 20.0,\n",
        "                   \"thermal_capacity\":6.6, #Kapazität in kWh\n",
        "                   \"standing_loss\": 0.01}  #Selbstentlasdungsverluste in Energie des Speicherinhalts,\n",
        "                                           #der sich nach einer Stunde selbst entladen hat.\n",
        ""
      ]
    },
    {
      "cell_type": "markdown",
      "metadata": {
        "id": "oq5ubTg3sKkY"
      },
      "source": [
        "### Netzanschluss <a class=\"anchor\" id=\"section_2_1_2\"></a>"
      ]
    },
    {
      "cell_type": "markdown",
      "metadata": {
        "id": "euF-99JKsKkY"
      },
      "source": [
        "Der Netzanschluss wird für den Haushalt mit 14,5 kW angenommen.\n",
        "Hier ist auch eine Kappungsgrenze bei 70% der Nennleistung der PV-Anlage implementiert."
      ]
    },
    {
      "cell_type": "code",
      "execution_count": null,
      "metadata": {
        "id": "7CW5fs1PsKkY"
      },
      "outputs": [],
      "source": [
        "# Leistungsbezug aus dem Netz\n",
        "grid_import = {\"electrical_power\" : 14.5,\n",
        "                \"electricity_price\": 30.0} #Preise in cent/kWh\n",
        "\n",
        "#Leistungsabgabe in das Netz\n",
        "grid_export = {\"electrical_power\" : 0.7 * pv[\"electrical_power\"], #Repräsentiert die 70% Kappungsgrenze bei kleinen PV-Anlagen\n",
        "                \"electricity_revenue\": 10.33} #EEG-Erlöse in cent/kWh"
      ]
    },
    {
      "cell_type": "markdown",
      "metadata": {
        "id": "v7g-NRkesKkY"
      },
      "source": [
        "## Verwendung von PyPSA um das Energiemodell aufzubauen <a class=\"anchor\" id=\"section_2_2\"></a>"
      ]
    },
    {
      "cell_type": "markdown",
      "metadata": {
        "id": "oUpnas7TsKkY"
      },
      "source": [
        "Im Folgenden verwenden wir das offene Python Modul PyPSA um unser Energiesystem zu bauen. Diese ist objektorientiert aufgebaut und hat verschiedene Module, welche zu einem Energiesystem zusammengesetzt werden können. Gleichzeitig kann der Einsatz der Komponenten nach Grenzkosten bestimmt werden. Es lassen sich auch AC- und DC-Netzflussberechnungen sowie Kapazitätsplanungen mit der Bibliothek ausführen."
      ]
    },
    {
      "cell_type": "markdown",
      "metadata": {
        "id": "STndT9mcsKkY"
      },
      "source": [
        "### Definition des Netzwerks  <a class=\"anchor\" id=\"section_2_2_1\"></a>"
      ]
    },
    {
      "cell_type": "markdown",
      "metadata": {
        "id": "P0GuEVaSsKkY"
      },
      "source": [
        "Das Netzwerk ist das PyPSA Objekt, welches alle anderen Objekte enthält. Es definiert damit die Basisparameter unseres Energiesystems. Wir erstellen zunächst ein leeres Netzwerk und definieren dann die Zeitschritte. Diese lesen wir aus den Eingangsdaten ab."
      ]
    },
    {
      "cell_type": "code",
      "execution_count": null,
      "metadata": {
        "id": "f3cqBcu0sKkY"
      },
      "outputs": [],
      "source": [
        "#Netzwerk definieren\n",
        "network = pypsa.Network()\n",
        "network.set_snapshots(pv_infeed.index)\n",
        "network.snapshot_weightings = pd.Series(data = 1/6, index = network.snapshots) #Jeder Zeitpunkt repräsentiert 10 Minuten also 1/6 Stunde."
      ]
    },
    {
      "cell_type": "markdown",
      "metadata": {
        "id": "JCLUS0XjsKkY"
      },
      "source": [
        "### Knoten definieren <a class=\"anchor\" id=\"section_2_2_2\"></a>"
      ]
    },
    {
      "cell_type": "markdown",
      "metadata": {
        "id": "5UOuYk3BsKkY"
      },
      "source": [
        "An Knoten werden bei PyPSA die Energieflüsse bilanziert und die Komponenten an diese angeschlossen. Wir definieren hier einen Strom- und einen thermischen Knoten."
      ]
    },
    {
      "cell_type": "code",
      "execution_count": null,
      "metadata": {
        "id": "GxG6XwAMsKkY"
      },
      "outputs": [],
      "source": [
        "#Stromknoten definieren\n",
        "network.add(\"Bus\",\n",
        "            name = \"electricity\")\n",
        "\n",
        "#Wärmeknoten definieren\n",
        "network.add(\"Bus\",\n",
        "            name = \"thermal\")"
      ]
    },
    {
      "cell_type": "markdown",
      "metadata": {
        "id": "9VHnn7xpsKkY"
      },
      "source": [
        "### Lasten definieren <a class=\"anchor\" id=\"section_2_2_3\"></a>"
      ]
    },
    {
      "cell_type": "markdown",
      "metadata": {
        "id": "WMmab3pUsKkY"
      },
      "source": [
        "An jeden Knoten wird nun eine Last angeschlossen. Diese wird mit den Leistungszeitreihen der jeweiligen Lasten belegt."
      ]
    },
    {
      "cell_type": "code",
      "execution_count": null,
      "metadata": {
        "id": "O9_FxbOvsKkZ"
      },
      "outputs": [],
      "source": [
        "# Elektrische Last\n",
        "network.add(\"Load\",\n",
        "            name =\"electricity_load\",\n",
        "            bus = \"electricity\",\n",
        "            p_set = electrical_load.power_kw)\n",
        "\n",
        "# Thermische last\n",
        "network.add(\"Load\",\n",
        "            name =\"thermal_load\",\n",
        "            bus = \"thermal\",\n",
        "            p_set = thermal_load.power_kw)\n"
      ]
    },
    {
      "cell_type": "markdown",
      "metadata": {
        "id": "KvgsS1EosKkZ"
      },
      "source": [
        "### Erzeugungseinheiten definieren <a class=\"anchor\" id=\"section_2_2_4\"></a>"
      ]
    },
    {
      "cell_type": "markdown",
      "metadata": {
        "id": "DZOgDfrosKkZ"
      },
      "source": [
        "In PyPSA sind Erzeugungseinheiten als \"Generator\" definiert. Diese haben eine installierte Leistung \"p_nom\" und ggf. eine normierte maximale Leistung \"p_max_pu\".\n",
        "Wir definieren die PV-Anlage und den Heizkessel."
      ]
    },
    {
      "cell_type": "code",
      "execution_count": null,
      "metadata": {
        "id": "SqpGbZb8sKkZ"
      },
      "outputs": [],
      "source": [
        "#PV-Anlage\n",
        "network.add(\"Generator\",\n",
        "            name = \"pv\",\n",
        "            bus = \"electricity\",\n",
        "            p_nom = pv[\"electrical_power\"],\n",
        "            p_max_pu = pv_infeed.p_max_pu,\n",
        "            marginal_cost = 0)\n",
        "\n",
        "#Heizkessel\n",
        "network.add(\"Generator\",\n",
        "            name = \"boiler\",\n",
        "            bus = \"thermal\",\n",
        "            p_nom = heating_boiler[\"thermal_power\"], efficiency=heating_boiler[\"efficiency\"],\n",
        "            marginal_cost = heating_boiler[\"gas_costs\"]/heating_boiler[\"efficiency\"])"
      ]
    },
    {
      "cell_type": "markdown",
      "metadata": {
        "id": "Q3JLdAX9sKkZ"
      },
      "source": [
        "### Speicher definieren <a class=\"anchor\" id=\"section_2_2_5\"></a>"
      ]
    },
    {
      "cell_type": "markdown",
      "metadata": {
        "id": "sGxqt75NsKkZ"
      },
      "source": [
        "Wir definieren den Speicher. Dabei wird ein Hilfsknoten definiert, an welchem die Einspeicherleistung, die Ausspeicherleistung als steuerbare Verbindung zwischen zwei Knoten und der Speicher selbst angeschlossen werden."
      ]
    },
    {
      "cell_type": "code",
      "execution_count": null,
      "metadata": {
        "id": "tjpqsHONsKkZ"
      },
      "outputs": [],
      "source": [
        "# Hilfsknoten\n",
        "network.add(\"Bus\",\n",
        "            name = \"storage_thermal\")\n",
        "\n",
        "#Einspeicherleistung vom Knoten \"thermal\" zum Knoten \"storage_thermal\"\n",
        "network.add(\"Link\",\n",
        "            name = \"hot_water_storage_charge\",\n",
        "            bus0 = \"thermal\",\n",
        "            bus1 = \"storage_thermal\",\n",
        "            p_nom = hot_water_storage[\"thermal_power\"])\n",
        "\n",
        "#Ausspeicherleistung vom Knoten \"storage_thermal\" zum Knoten \"thermal\"\n",
        "network.add(\"Link\",\n",
        "            name = \"hot_water_storage_discharge\",\n",
        "            bus0 = \"storage_thermal\",\n",
        "            bus1 = \"thermal\",\n",
        "            p_nom = hot_water_storage[\"thermal_power\"])\n",
        "\n",
        "#Speicher\n",
        "network.add(\"Store\",\n",
        "            name = \"hot_water_storage\",\n",
        "            bus = \"storage_thermal\",\n",
        "            e_nom = hot_water_storage[\"thermal_capacity\"],\n",
        "            e_cyclic = True, # Der Speicherfüllstand soll am Ende des Betrachtungszeitraumes wieder den Wert vom Anfang annehmen\n",
        "            standing_loss = hot_water_storage[\"standing_loss\"]\n",
        "            )"
      ]
    },
    {
      "cell_type": "markdown",
      "metadata": {
        "id": "hjhXgmbEsKkZ"
      },
      "source": [
        "### Netzanschluss definieren <a class=\"anchor\" id=\"section_2_2_6\"></a>"
      ]
    },
    {
      "cell_type": "markdown",
      "metadata": {
        "id": "TZgU89zysKkc"
      },
      "source": [
        "Der Netzanschluss wird hier auch als \"Generator\" definiert. Das heißt es kann Leistung aus dem Netz für einen bestimmten Preis bezogen werden. Die Netzeinspeisung wird auch als \"Generator\" definiert, allerdings wird die Leistungsabgabe dieses Generators mit einem Vorzeichenwechsel umgedreht. Der \"Generator\" kann also Leistung aufnehmen. Zusätzlich sind die Kosten negativ um Erlöse durch die EEG-Vergütung abzubilden."
      ]
    },
    {
      "cell_type": "code",
      "execution_count": null,
      "metadata": {
        "id": "J_ZqVyh1sKkc"
      },
      "outputs": [],
      "source": [
        "#Netzbezug\n",
        "network.add(\"Generator\",\n",
        "            name = \"grid_import\",\n",
        "            bus = \"electricity\",\n",
        "            p_nom = grid_import[\"electrical_power\"],\n",
        "            marginal_cost = grid_import[\"electricity_price\"])\n",
        "\n",
        "#Netzeinspeisung\n",
        "network.add(\"Generator\",\n",
        "            name = \"grid_export\",\n",
        "            bus = \"electricity\",\n",
        "            p_nom = grid_export[\"electrical_power\"],\n",
        "            marginal_cost = -grid_export[\"electricity_revenue\"], #Die Kosten müssen hier negativ sein, um Erlöse darzustellen\n",
        "            sign = -1) #Das Vorzeichen -1 sorgt hier dafür, dass der Generator Leistung aufnimmt und nicht abgibt."
      ]
    },
    {
      "cell_type": "markdown",
      "metadata": {
        "id": "sYMg7MLxsKkc"
      },
      "source": [
        "# Simulation <a class=\"anchor\" id=\"chapter3\"></a>"
      ]
    },
    {
      "cell_type": "markdown",
      "metadata": {
        "id": "yOeyx9CEsKkc"
      },
      "source": [
        "## Simulation der Basiskonfiguration <a class=\"anchor\" id=\"section_3_1\"></a>"
      ]
    },
    {
      "cell_type": "markdown",
      "metadata": {
        "id": "PKpISKxOsKkc"
      },
      "source": [
        "Um die Basisvariante ohne Wärmepumpe zu berechnen, setzten wir die Leistung der Wärmepumpe temporär auf 0.\n",
        "Die in PyPSA implementierte Funktion lopf optimiert den Einsatz aller Komponenten so, dass die dabei entstehenden Kosten minimal sind."
      ]
    },
    {
      "cell_type": "code",
      "execution_count": null,
      "metadata": {
        "id": "7XF1r5JjsKkc"
      },
      "outputs": [],
      "source": [
        "# Simulation der Basiskonfiguration für den kompletten Zeitraum:\n",
        "network.lopf(solver_name = \"cbc\", pyomo = False) #Der Parameter pyomo = False hilft uns bei diesem Netzwerk RAM und Rechenzeit zu sparen."
      ]
    },
    {
      "cell_type": "markdown",
      "metadata": {
        "id": "tg41tZIQsKkd"
      },
      "source": [
        "## Auswertungsfunktion <a class=\"anchor\" id=\"section_3_2\"></a>"
      ]
    },
    {
      "cell_type": "markdown",
      "metadata": {
        "id": "aNpCtKHvsKkd"
      },
      "source": [
        "Funktionen werden in python üblicherweise am Anfang eines Scriptes definiert. Aus didaktischen Gründen kommt die Definition der Funktion erst jetzt. Für Aufgaben, welche wir mehrfach ausführen, lohnt sich die Definition einer Funktion. Diese kann dann im weiteren Verlauf immer wieder aufgerufen werden.\n",
        "Wir werten hier das gelöste Netzwerk nach den gewünschten Parametern aus."
      ]
    },
    {
      "cell_type": "code",
      "execution_count": null,
      "metadata": {
        "id": "W_DaaTQxsKkd"
      },
      "outputs": [],
      "source": [
        "#Auswertung der Kosten und Anteile\n",
        "def cost_share_evaluation(network):\n",
        "    '''\n",
        "    This function evaluate the solved PyPSA network to get the costs, revenues and the share of the selfconsumption.\n",
        "\n",
        "    Parameters\n",
        "    ----------\n",
        "    network:            PyPSA Network\n",
        "                        The solved PyPSA network with all corresponding devices\n",
        "    Returns\n",
        "    -------\n",
        "    results :           dict\n",
        "                        The dictionary with all the results.\n",
        "    '''\n",
        "\n",
        "    grid_import = (network.generators_t.p['grid_import'] * network.snapshot_weightings).sum()\n",
        "    grid_export = (network.generators_t.p['grid_export'] * network.snapshot_weightings).sum()\n",
        "    self_consumed_pv = (network.generators_t.p['pv'] * network.snapshot_weightings).sum()- grid_export\n",
        "    self_consumption_ratio = self_consumed_pv/(grid_import + self_consumed_pv)\n",
        "\n",
        "    electricity_cost = grid_import * network.generators.marginal_cost['grid_import']\n",
        "    electricty_revenues = grid_export * network.generators.marginal_cost['grid_export']\n",
        "    gas_costs = (network.generators_t.p['boiler']*network.snapshot_weightings).sum() * network.generators.marginal_cost['boiler']\n",
        "\n",
        "    curtailment = ((network.generators_t.p_max_pu['pv']*network.generators.p_nom['pv'] - network.generators_t.p['pv'])*network.snapshot_weightings).sum()\n",
        "\n",
        "    results = {\"Eigenverbrauchsanteil\": self_consumption_ratio,\n",
        "              \"Stromkosten\": electricity_cost,\n",
        "              \"Gaskosten\": gas_costs,\n",
        "              \"Stromerlöse\": -electricty_revenues,\n",
        "              \"Gesamtkosten\": electricity_cost + gas_costs + electricty_revenues,\n",
        "              \"Nicht nutzbare Energie\": curtailment}\n",
        "    results_energy = {'Abregelung': curtailment,\n",
        "                      'Netzeinspeisung': grid_export,\n",
        "                      'Eigenverbrauch': self_consumed_pv,\n",
        "                      'Netzbezug': -grid_import}\n",
        "\n",
        "    return results, results_energy"
      ]
    },
    {
      "cell_type": "markdown",
      "metadata": {
        "id": "7AXytNm2sKkd"
      },
      "source": [
        "Ausführung der Auswertungsfunktion:"
      ]
    },
    {
      "cell_type": "code",
      "execution_count": null,
      "metadata": {
        "tags": [],
        "id": "bWeK2exCsKkd"
      },
      "outputs": [],
      "source": [
        "results_base, results_energy_base  = cost_share_evaluation(network)\n",
        "\n",
        "#Die Werte sollen auch als Text ausgegeben werden\n",
        "print(\"Der Eigenverbrauchsanteil am Stromverbrauch in der Basiskonfiguration beträgt \"\n",
        "      + str(round(results_base[\"Eigenverbrauchsanteil\"]*100,2))\n",
        "      +\"%. Dabei entstehen Stromkosten von \"\n",
        "      +str(round(results_base[\"Stromkosten\"]/100,2))\n",
        "      +\"€, Gaskosten von \"\n",
        "      +str(round(results_base[\"Gaskosten\"]/100,2))\n",
        "      +\"€ und EEG-Erlöse von \"\n",
        "      +str(round(results_base[\"Stromerlöse\"]/100,2))\n",
        "      +\", wobei \" +str(round(results_base[\"Nicht nutzbare Energie\"]/100,1))+ \"kWh PV-Strom abgeregelt werden muss.\"\n",
        "      +\" Die Gesamtkosten betragen \"+ str(round(results_base[\"Gesamtkosten\"]/100,2)) +\"€.\"\n",
        "     )"
      ]
    },
    {
      "cell_type": "markdown",
      "metadata": {
        "id": "KHWqisXesKkd"
      },
      "source": [
        "## Visualisierung der Ergebnisse <a class=\"anchor\" id=\"section_3_3\"></a>"
      ]
    },
    {
      "cell_type": "code",
      "execution_count": null,
      "metadata": {
        "id": "nJ75-jOQsKkd"
      },
      "outputs": [],
      "source": [
        "load_figure = network.loads_t.p_set['electricity_load']\n",
        "load_figure.name = 'Elektrische Last'\n",
        "ax = load_figure.loc['10-13-19 00:00:00':'10-14-19 23:50:00'].plot(legend = True, color = 'red')\n",
        "df_figure_base = pd.concat([network.generators_t.p['pv'], network.generators_t.p['grid_import'], -network.generators_t.p['grid_export']], axis = 1)\n",
        "df_figure_base.columns = ['PV Erzeugung', 'Netzbezug', 'Netzeinspeisung']\n",
        "df_figure_base.loc['10-13-19 00:00:00':'10-14-19 23:50:00'].plot(legend =True, subplots = False, figsize=(15,10), kind= 'area', linewidth=0, ax=ax)\n"
      ]
    },
    {
      "cell_type": "markdown",
      "metadata": {
        "id": "HLMMF6h_sKkd"
      },
      "source": [
        "## Erweiterterung der Konfiguration<a class=\"anchor\" id=\"section_3_4\"></a>"
      ]
    },
    {
      "cell_type": "markdown",
      "metadata": {
        "id": "Yp8l4rfCsKkd"
      },
      "source": [
        "Ein neues Netzwerk wird identisch zum Basisnetzwerk aufgebaut. Anschließend kann dieses neue Netzwerk um weitere Komponenten erweitert werden."
      ]
    },
    {
      "cell_type": "code",
      "execution_count": null,
      "metadata": {
        "id": "aoU1E836sKkd"
      },
      "outputs": [],
      "source": [
        "# Basisnetzwerk implementieren:\n",
        "network_modified= pypsa.Network()\n",
        "network_modified.set_snapshots(pv_infeed.index)\n",
        "network_modified.snapshot_weightings = pd.Series(data = 1/6, index = network.snapshots) #Jeder Zeitpunkt repräsentiert 10 Minuten also 1/6 Stunde.\n",
        "#Stromknoten definieren\n",
        "network_modified.add(\"Bus\",\n",
        "            name = \"electricity\")\n",
        "#Wärmeknoten definieren\n",
        "network_modified.add(\"Bus\",\n",
        "            name = \"thermal\")\n",
        "# Elektrische Last\n",
        "network_modified.add(\"Load\",\n",
        "            name =\"electricity_load\",\n",
        "            bus = \"electricity\",\n",
        "            p_set = electrical_load.power_kw)\n",
        "# Thermische last\n",
        "network_modified.add(\"Load\",\n",
        "            name =\"thermal_load\",\n",
        "            bus = \"thermal\",\n",
        "            p_set = thermal_load.power_kw)\n",
        "#PV-Anlage\n",
        "network_modified.add(\"Generator\",\n",
        "            name = \"pv\",\n",
        "            bus = \"electricity\",\n",
        "            p_nom = pv[\"electrical_power\"],\n",
        "            p_max_pu = pv_infeed.p_max_pu,\n",
        "            marginal_cost = 0)\n",
        "#Heizkessel\n",
        "network_modified.add(\"Generator\",\n",
        "            name = \"boiler\",\n",
        "            bus = \"thermal\",\n",
        "            p_nom = heating_boiler[\"thermal_power\"], efficiency=heating_boiler[\"efficiency\"],\n",
        "            marginal_cost = heating_boiler[\"gas_costs\"]/heating_boiler[\"efficiency\"])\n",
        "# Hilfsknoten\n",
        "network_modified.add(\"Bus\",\n",
        "            name = \"storage_thermal\")\n",
        "#Einspeicherleistung vom Knoten \"thermal\" zum Knoten \"storage_thermal\"\n",
        "network_modified.add(\"Link\",\n",
        "            name = \"hot_water_storage_charge\",\n",
        "            bus0 = \"thermal\",\n",
        "            bus1 = \"storage_thermal\",\n",
        "            p_nom = hot_water_storage[\"thermal_power\"])\n",
        "#Ausspeicherleistung vom Knoten \"storage_thermal\" zum Knoten \"thermal\"\n",
        "network_modified.add(\"Link\",\n",
        "            name = \"hot_water_storage_discharge\",\n",
        "            bus0 = \"storage_thermal\",\n",
        "            bus1 = \"thermal\",\n",
        "            p_nom = hot_water_storage[\"thermal_power\"])\n",
        "#Speicher\n",
        "network_modified.add(\"Store\",\n",
        "            name = \"hot_water_storage\",\n",
        "            bus = \"storage_thermal\",\n",
        "            e_nom = hot_water_storage[\"thermal_capacity\"],\n",
        "            e_cyclic = True, # Der Speicherfüllstand soll am Ende des Betrachtungszeitraumes wieder den Wert vom Anfang annehmen\n",
        "            standing_loss = hot_water_storage[\"standing_loss\"]           )\n",
        "#Netzbezug\n",
        "network_modified.add(\"Generator\",\n",
        "            name = \"grid_import\",\n",
        "            bus = \"electricity\",\n",
        "            p_nom = grid_import[\"electrical_power\"],\n",
        "            marginal_cost = grid_import[\"electricity_price\"])\n",
        "#Netzeinspeisung\n",
        "network_modified.add(\"Generator\",\n",
        "            name = \"grid_export\",\n",
        "            bus = \"electricity\",\n",
        "            p_nom = grid_export[\"electrical_power\"],\n",
        "            marginal_cost = -grid_export[\"electricity_revenue\"], #Die Kosten müssen hier negativ sein, um Erlöse darzustellen\n",
        "            sign = -1) #Das Vorzeichen -1 sorgt hier dafür, dass der Generator Leistung aufnimmt und nicht abgibt."
      ]
    },
    {
      "cell_type": "markdown",
      "metadata": {
        "id": "5qqjTDKYsKkd"
      },
      "source": [
        "Hier können nun neue Elemente in das Netzwerk intigriert werden."
      ]
    },
    {
      "cell_type": "code",
      "execution_count": null,
      "metadata": {
        "id": "yu5HbikrsKkd"
      },
      "outputs": [],
      "source": [
        "#Wärmepumpe\n",
        "#Hier können Sie die Aufgabe mit der Wärmepumpe implementieren. Geben Sie ihrer Wärmepumpe den namen \"heat_pump\"\n"
      ]
    },
    {
      "cell_type": "code",
      "execution_count": null,
      "metadata": {
        "id": "-O2Z6mH6sKkd"
      },
      "outputs": [],
      "source": [
        "# Batteriespeicher\n",
        "#Hier können Sie die Aufgabe mit dem Batteriespeicher implementieren\n"
      ]
    },
    {
      "cell_type": "markdown",
      "metadata": {
        "id": "dkqsHqsDsKke"
      },
      "source": [
        "## Simulation der erweiterten Konfiguration <a class=\"anchor\" id=\"section_3_5\"></a>"
      ]
    },
    {
      "cell_type": "code",
      "execution_count": null,
      "metadata": {
        "id": "Be9XbhVCsKke"
      },
      "outputs": [],
      "source": [
        "# Simulation für den kompletten Zeitraum:\n",
        "network_modified.lopf(solver_name = \"cbc\", pyomo = False) #Der Parameter pyomo = False hilft uns bei diesem Netzwerk RAM und Rechenzeit zu sparen."
      ]
    },
    {
      "cell_type": "code",
      "execution_count": null,
      "metadata": {
        "id": "jh8eRZMHsKke"
      },
      "outputs": [],
      "source": [
        "# Ausführung der Auswertungsfunktion\n",
        "results_with_modification, results_energy_with_modification = cost_share_evaluation(network_modified)\n",
        "print(\"Der Eigenverbrauchsanteil am Stromverbrauch in der erweiterten Konfiguration beträgt \"\n",
        "      + str(round(results_with_modification[\"Eigenverbrauchsanteil\"]*100,2))\n",
        "      +\"%.\\n Dabei entstehen Stromkosten von \"\n",
        "      +str(round(results_with_modification[\"Stromkosten\"]/100,2))\n",
        "      +\"€, Gaskosten von \"\n",
        "      +str(round(results_with_modification[\"Gaskosten\"]/100,2))\n",
        "      +\"€ und EEG-Erlöse von \"\n",
        "      +str(round(results_with_modification[\"Stromerlöse\"]/100,2))\n",
        "      +\", wobei \" +str(round(results_with_modification[\"Nicht nutzbare Energie\"]/100,1))\n",
        "      + \"kWh PV-Strom abgeregelt werden müssen.\\n\"\n",
        "      +\" Die Gesamtkosten betragen \"+ str(round(results_with_modification[\"Gesamtkosten\"]/100,2))\n",
        "      +\"€.\\n\"\n",
        "      +\"Gegenüber der Basiskonfiguration ist dies eine Erhöhung des Eigenverbrauchsanteils um \"\n",
        "      +str(round((results_with_modification[\"Eigenverbrauchsanteil\"]- results_base[\"Eigenverbrauchsanteil\"])*100,2))\n",
        "      +\" Prozentpunkte und eine Verringerung der Kosten um \"\n",
        "      +str(round((results_base[\"Gesamtkosten\"]-results_with_modification[\"Gesamtkosten\"])/100,2))\n",
        "      +\"€.\"\n",
        "     )"
      ]
    },
    {
      "cell_type": "markdown",
      "metadata": {
        "id": "4_QCdDo2sKke"
      },
      "source": [
        "# Visualisierung des Vergleichs <a class=\"anchor\" id=\"chapter4\"></a>"
      ]
    },
    {
      "cell_type": "markdown",
      "metadata": {
        "id": "RgeMqs32sKke"
      },
      "source": [
        "Wir visualisieren am Ende noch Ergebnisse der Simulation mit Wärmepumpe sowie einen Vergleich der Energiebilanzen mit und ohne Wärmepumpe."
      ]
    },
    {
      "cell_type": "code",
      "execution_count": null,
      "metadata": {
        "id": "uUVZp8U2sKke"
      },
      "outputs": [],
      "source": [
        "total_load = pd.concat([network_modified.loads_t.p_set['electricity_load'], network_modified.links_t.p0['heat_pump']], axis = 1)\n",
        "total_load.columns = ['Elektrische Last', 'Wärmepumpe']\n",
        "ax = total_load.loc['10-13-19 00:00:00':'10-14-19 23:50:00'].plot(color = ['red', 'black'], legend = True, stacked = False)\n",
        "df_figure_with_modification = pd.concat([network_modified.generators_t.p['pv'], network_modified.generators_t.p['grid_import'], -network_modified.generators_t.p['grid_export']], axis = 1)\n",
        "df_figure_with_modification.columns = ['PV Erzeugung', 'Netzbezug', 'Netzeinspeisung']\n",
        "df_figure_with_modification.loc['10-13-19 00:00:00':'10-14-19 23:50:00'].plot(subplots = False, figsize=(15,10), kind= 'area', linewidth=0, ax = ax)"
      ]
    },
    {
      "cell_type": "code",
      "execution_count": null,
      "metadata": {
        "id": "IONFUcNosKke"
      },
      "outputs": [],
      "source": [
        "energy_figure = pd.DataFrame([results_energy_base, results_energy_with_modification], index = ['Basis', 'Mit Modifikation'])"
      ]
    },
    {
      "cell_type": "markdown",
      "metadata": {
        "id": "Qqb4bkXCsKke"
      },
      "source": [
        "Die Energiebilanz zeigt uns die Verwendung der Elektrizität im Monat Oktober mit und ohne Modifikation. Dabei können sehen, dass der Anteil des Eigenverbrauchs (in grün) mit zusätzlichen Flexibilitäten ansteigt."
      ]
    },
    {
      "cell_type": "code",
      "execution_count": null,
      "metadata": {
        "id": "NBWoaNEHsKke"
      },
      "outputs": [],
      "source": [
        "energy_figure.plot(kind='bar', stacked = True, figsize=(14,7), title = 'Elektrizitätsbilanz in kWh')"
      ]
    }
  ],
  "metadata": {
    "celltoolbar": "Raw Cell Format",
    "kernelspec": {
      "display_name": "Python 3",
      "language": "python",
      "name": "python3"
    },
    "language_info": {
      "codemirror_mode": {
        "name": "ipython",
        "version": 3
      },
      "file_extension": ".py",
      "mimetype": "text/x-python",
      "name": "python",
      "nbconvert_exporter": "python",
      "pygments_lexer": "ipython3",
      "version": "3.9.2"
    },
    "colab": {
      "provenance": []
    }
  },
  "nbformat": 4,
  "nbformat_minor": 0
}